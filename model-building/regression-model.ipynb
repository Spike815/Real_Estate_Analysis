{
 "cells": [
  {
   "cell_type": "code",
   "execution_count": 110,
   "metadata": {},
   "outputs": [],
   "source": [
    "from sklearn.linear_model import LinearRegression\n",
    "from sklearn.model_selection import train_test_split\n",
    "from sklearn import preprocessing\n",
    "import pandas as pd\n",
    "import matplotlib.pyplot as plt\n",
    "import seaborn as sns\n",
    "import numpy as np"
   ]
  },
  {
   "cell_type": "markdown",
   "metadata": {},
   "source": [
    "Improt the dataset and clean it before training"
   ]
  },
  {
   "cell_type": "code",
   "execution_count": 111,
   "metadata": {},
   "outputs": [],
   "source": [
    "#setup display options\n",
    "pd.set_option('display.max_columns', None)\n",
    "pd.set_option('display.min_rows', 15)\n",
    "\n",
    "df = pd.read_csv(\"..\\data\\data_cleaned.csv\",index_col=[0])\n",
    "\n",
    "\n",
    "#replace categorical data with number\n",
    "df[\"kitchen\"].fillna(\"Not equipped\",inplace=True)\n",
    "\n",
    "#get dummies for catagorical data:\n",
    "get_dummies = [\"kitchen\",\"type of property\",\"postalCode\",\"state of the building\"]\n",
    "for prop in get_dummies:\n",
    "    dummy_data=pd.get_dummies(df[prop]).astype(int)\n",
    "    df = df.join(dummy_data)\n",
    "\n",
    "df.drop(columns=[\"fully equipped kitchen\"],inplace=True)\n",
    "\n",
    "#replace True with 1, and False with 0, turn them into numerical data\n",
    "df.replace([True,False],[1,0],inplace=True)\n",
    "\n"
   ]
  },
  {
   "cell_type": "code",
   "execution_count": 112,
   "metadata": {},
   "outputs": [
    {
     "data": {
      "text/plain": [
       "(15670, 946)"
      ]
     },
     "execution_count": 112,
     "metadata": {},
     "output_type": "execute_result"
    }
   ],
   "source": [
    "df.shape"
   ]
  },
  {
   "cell_type": "markdown",
   "metadata": {},
   "source": [
    "Remove outliners\n"
   ]
  },
  {
   "cell_type": "code",
   "execution_count": 113,
   "metadata": {},
   "outputs": [],
   "source": [
    "def remove_outliners(df,columns,n_std):\n",
    "    for col in columns:\n",
    "\n",
    "        mean = df[col].mean()\n",
    "        sd = df[col].std()\n",
    "        df = df[(df[col] <= mean+(n_std*sd))]\n",
    "        df = df[(df[col] >= mean-(n_std*sd))]\n",
    "    return df\n",
    "\n",
    "# def remove_outliner(df, col_names):\n",
    "#     for col_name in col_names:\n",
    "#         q1 = df[col_name].quantile(0.25)\n",
    "#         q3 = df[col_name].quantile(0.75)\n",
    "#         iqr = q3-q1 #Interquartile range\n",
    "#         fence_low  = q1-1.5*iqr\n",
    "#         fence_high = q3+1.5*iqr\n",
    "#         df = df.loc[(df[col_name] > fence_low) & (df[col_name] < fence_high)]\n",
    "\n",
    "#     return df\n",
    "\n"
   ]
  },
  {
   "cell_type": "code",
   "execution_count": 114,
   "metadata": {},
   "outputs": [
    {
     "data": {
      "text/plain": [
       "(15020, 946)"
      ]
     },
     "execution_count": 114,
     "metadata": {},
     "output_type": "execute_result"
    }
   ],
   "source": [
    "df = remove_outliners(df,[\"number of bedrooms\",\"total property area\",\"livable area\", \"garden area\"],3)\n",
    "df.shape"
   ]
  },
  {
   "cell_type": "markdown",
   "metadata": {},
   "source": [
    "Data formatting: create X,y, split them into training and testing"
   ]
  },
  {
   "cell_type": "code",
   "execution_count": 115,
   "metadata": {},
   "outputs": [],
   "source": [
    "# fix the distributions of number of bedrooms\n",
    "df[\"number of bedrooms\"] = np.log(df[\"number of bedrooms\"] + 1)"
   ]
  },
  {
   "cell_type": "code",
   "execution_count": 116,
   "metadata": {},
   "outputs": [],
   "source": [
    "# price would be the target\n",
    "columns_to_drop = [\"id\",\"type of property\",\"subtype of property\",\"locality\",\"latitude\",\"longitude\",\"street\",\"price\",\"type of sale\",\n",
    "                   \"state of the building\",\"Gemeente\",\"Province\",\"Density\",\"Area(per province)\",\n",
    "                   \"Population( per province)\",\"kitchen\",\"price per sqr\"]\n",
    "X_raw = df.drop(columns=columns_to_drop,axis=1).to_numpy()\n",
    "y_raw = df.loc[:,\"price\"].to_numpy().reshape(-1,1)\n",
    "\n",
    "#Now normalize the data\n",
    "# X=preprocessing.normalize(X_raw) \n",
    "# print(X.shape,y.shape)\n",
    "X_train, X_test, y_train, y_test = train_test_split(X_raw, y_raw, train_size= 0.20)\n"
   ]
  },
  {
   "cell_type": "code",
   "execution_count": 117,
   "metadata": {},
   "outputs": [
    {
     "name": "stdout",
     "output_type": "stream",
     "text": [
      "(15020, 929) (3004, 929) (3004, 1)\n"
     ]
    }
   ],
   "source": [
    "print(X_raw.shape, X_train.shape, y_train.shape)"
   ]
  },
  {
   "cell_type": "markdown",
   "metadata": {},
   "source": [
    "visualization of the raw_data"
   ]
  },
  {
   "cell_type": "code",
   "execution_count": 118,
   "metadata": {},
   "outputs": [],
   "source": [
    "\n",
    "# df[columns_to_select].hist(figsize=(15,8))\n",
    "\n"
   ]
  },
  {
   "cell_type": "markdown",
   "metadata": {},
   "source": [
    "Model selection"
   ]
  },
  {
   "cell_type": "code",
   "execution_count": 119,
   "metadata": {},
   "outputs": [
    {
     "name": "stdout",
     "output_type": "stream",
     "text": [
      "0.6759181430958178\n"
     ]
    }
   ],
   "source": [
    "reg = LinearRegression()\n",
    "reg.fit(X_train, y_train)\n",
    "\n",
    "# y_pred = reg.predict(X_test)\n",
    "print(reg.score(X_train,y_train))\n"
   ]
  }
 ],
 "metadata": {
  "kernelspec": {
   "display_name": "immovenv",
   "language": "python",
   "name": "python3"
  },
  "language_info": {
   "codemirror_mode": {
    "name": "ipython",
    "version": 3
   },
   "file_extension": ".py",
   "mimetype": "text/x-python",
   "name": "python",
   "nbconvert_exporter": "python",
   "pygments_lexer": "ipython3",
   "version": "3.11.3"
  },
  "orig_nbformat": 4
 },
 "nbformat": 4,
 "nbformat_minor": 2
}
