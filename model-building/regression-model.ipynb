{
 "cells": [
  {
   "cell_type": "code",
   "execution_count": 245,
   "metadata": {},
   "outputs": [],
   "source": [
    "from sklearn.linear_model import LinearRegression\n",
    "from sklearn.model_selection import train_test_split,GridSearchCV\n",
    "from sklearn.preprocessing import OneHotEncoder,MinMaxScaler\n",
    "import pandas as pd\n",
    "import matplotlib.pyplot as plt\n",
    "import seaborn as sns\n",
    "import numpy as np\n",
    "from sklearn.model_selection import cross_val_score\n",
    "from sklearn.compose import ColumnTransformer,make_column_selector\n",
    "from sklearn.pipeline import Pipeline,make_pipeline"
   ]
  },
  {
   "cell_type": "markdown",
   "metadata": {},
   "source": [
    "Improt the dataset"
   ]
  },
  {
   "cell_type": "code",
   "execution_count": 246,
   "metadata": {},
   "outputs": [],
   "source": [
    "#setup display options\n",
    "pd.set_option('display.max_columns', None)\n",
    "pd.set_option('display.min_rows', 15)\n",
    "df = pd.read_csv(\"..\\data\\data_cleaned.csv\",index_col=[0])\n"
   ]
  },
  {
   "cell_type": "code",
   "execution_count": 247,
   "metadata": {},
   "outputs": [
    {
     "data": {
      "text/html": [
       "<div>\n",
       "<style scoped>\n",
       "    .dataframe tbody tr th:only-of-type {\n",
       "        vertical-align: middle;\n",
       "    }\n",
       "\n",
       "    .dataframe tbody tr th {\n",
       "        vertical-align: top;\n",
       "    }\n",
       "\n",
       "    .dataframe thead th {\n",
       "        text-align: right;\n",
       "    }\n",
       "</style>\n",
       "<table border=\"1\" class=\"dataframe\">\n",
       "  <thead>\n",
       "    <tr style=\"text-align: right;\">\n",
       "      <th></th>\n",
       "      <th>id</th>\n",
       "      <th>type of property</th>\n",
       "      <th>subtype of property</th>\n",
       "      <th>locality</th>\n",
       "      <th>latitude</th>\n",
       "      <th>longitude</th>\n",
       "      <th>street</th>\n",
       "      <th>postalCode</th>\n",
       "      <th>price</th>\n",
       "      <th>type of sale</th>\n",
       "      <th>number of bedrooms</th>\n",
       "      <th>living area</th>\n",
       "      <th>livable area</th>\n",
       "      <th>fully equipped kitchen</th>\n",
       "      <th>furnished</th>\n",
       "      <th>open fire</th>\n",
       "      <th>terrace</th>\n",
       "      <th>terrace area</th>\n",
       "      <th>garden</th>\n",
       "      <th>garden area</th>\n",
       "      <th>total property area</th>\n",
       "      <th>total land area</th>\n",
       "      <th>number of facades</th>\n",
       "      <th>swimming pool</th>\n",
       "      <th>state of the building</th>\n",
       "      <th>Gemeente</th>\n",
       "      <th>Province</th>\n",
       "      <th>Population</th>\n",
       "      <th>Area(km2)</th>\n",
       "      <th>Density</th>\n",
       "      <th>kitchen</th>\n",
       "      <th>price per sqr</th>\n",
       "    </tr>\n",
       "  </thead>\n",
       "  <tbody>\n",
       "    <tr>\n",
       "      <th>0</th>\n",
       "      <td>10689265</td>\n",
       "      <td>HOUSE</td>\n",
       "      <td>MIXED_USE_BUILDING</td>\n",
       "      <td>Koekelberg</td>\n",
       "      <td>50.863091</td>\n",
       "      <td>4.329928</td>\n",
       "      <td>Rue du Noyer 86</td>\n",
       "      <td>1081</td>\n",
       "      <td>575000.0</td>\n",
       "      <td>residential_sale</td>\n",
       "      <td>3</td>\n",
       "      <td>0</td>\n",
       "      <td>220.0</td>\n",
       "      <td>installed</td>\n",
       "      <td>False</td>\n",
       "      <td>False</td>\n",
       "      <td>True</td>\n",
       "      <td>0.0</td>\n",
       "      <td>False</td>\n",
       "      <td>0.0</td>\n",
       "      <td>220.0</td>\n",
       "      <td>71.0</td>\n",
       "      <td>2.0</td>\n",
       "      <td>False</td>\n",
       "      <td>good</td>\n",
       "      <td>Koekelberg</td>\n",
       "      <td>Brussel</td>\n",
       "      <td>1208542.0</td>\n",
       "      <td>162.4</td>\n",
       "      <td>7442.0</td>\n",
       "      <td>NaN</td>\n",
       "      <td>2613.636364</td>\n",
       "    </tr>\n",
       "    <tr>\n",
       "      <th>1</th>\n",
       "      <td>10687297</td>\n",
       "      <td>HOUSE</td>\n",
       "      <td>EXCEPTIONAL_PROPERTY</td>\n",
       "      <td>Beveren</td>\n",
       "      <td>51.224437</td>\n",
       "      <td>4.246054</td>\n",
       "      <td>NaN</td>\n",
       "      <td>9120</td>\n",
       "      <td>695000.0</td>\n",
       "      <td>residential_sale</td>\n",
       "      <td>4</td>\n",
       "      <td>28</td>\n",
       "      <td>269.0</td>\n",
       "      <td>hyper_equipped</td>\n",
       "      <td>False</td>\n",
       "      <td>False</td>\n",
       "      <td>True</td>\n",
       "      <td>41.0</td>\n",
       "      <td>True</td>\n",
       "      <td>300.0</td>\n",
       "      <td>269.0</td>\n",
       "      <td>583.0</td>\n",
       "      <td>3.0</td>\n",
       "      <td>False</td>\n",
       "      <td>as_new</td>\n",
       "      <td>Beveren</td>\n",
       "      <td>Oost-Vlaanderen</td>\n",
       "      <td>1515064.0</td>\n",
       "      <td>3007.0</td>\n",
       "      <td>504.0</td>\n",
       "      <td>Hyper equipped</td>\n",
       "      <td>2583.643123</td>\n",
       "    </tr>\n",
       "    <tr>\n",
       "      <th>2</th>\n",
       "      <td>10686031</td>\n",
       "      <td>HOUSE</td>\n",
       "      <td>HOUSE</td>\n",
       "      <td>Seraing</td>\n",
       "      <td>50.598224</td>\n",
       "      <td>5.518784</td>\n",
       "      <td>Place Merlot 6</td>\n",
       "      <td>4100</td>\n",
       "      <td>144000.0</td>\n",
       "      <td>residential_sale</td>\n",
       "      <td>2</td>\n",
       "      <td>14</td>\n",
       "      <td>105.0</td>\n",
       "      <td>semi_equipped</td>\n",
       "      <td>False</td>\n",
       "      <td>False</td>\n",
       "      <td>True</td>\n",
       "      <td>0.0</td>\n",
       "      <td>True</td>\n",
       "      <td>25.0</td>\n",
       "      <td>105.0</td>\n",
       "      <td>105.0</td>\n",
       "      <td>2.0</td>\n",
       "      <td>False</td>\n",
       "      <td>good</td>\n",
       "      <td>Seraing</td>\n",
       "      <td>Liège</td>\n",
       "      <td>1106992.0</td>\n",
       "      <td>3857.0</td>\n",
       "      <td>288.0</td>\n",
       "      <td>Semi equipped</td>\n",
       "      <td>1371.428571</td>\n",
       "    </tr>\n",
       "    <tr>\n",
       "      <th>3</th>\n",
       "      <td>10686030</td>\n",
       "      <td>HOUSE</td>\n",
       "      <td>HOUSE</td>\n",
       "      <td>Seraing</td>\n",
       "      <td>50.601548</td>\n",
       "      <td>5.510799</td>\n",
       "      <td>Place Merlot 6</td>\n",
       "      <td>4100</td>\n",
       "      <td>199000.0</td>\n",
       "      <td>residential_sale</td>\n",
       "      <td>4</td>\n",
       "      <td>25</td>\n",
       "      <td>125.0</td>\n",
       "      <td>installed</td>\n",
       "      <td>False</td>\n",
       "      <td>False</td>\n",
       "      <td>True</td>\n",
       "      <td>108.0</td>\n",
       "      <td>True</td>\n",
       "      <td>28.0</td>\n",
       "      <td>125.0</td>\n",
       "      <td>229.0</td>\n",
       "      <td>2.0</td>\n",
       "      <td>False</td>\n",
       "      <td>good</td>\n",
       "      <td>Seraing</td>\n",
       "      <td>Liège</td>\n",
       "      <td>1106992.0</td>\n",
       "      <td>3857.0</td>\n",
       "      <td>288.0</td>\n",
       "      <td>NaN</td>\n",
       "      <td>1592.000000</td>\n",
       "    </tr>\n",
       "    <tr>\n",
       "      <th>4</th>\n",
       "      <td>10686027</td>\n",
       "      <td>HOUSE</td>\n",
       "      <td>VILLA</td>\n",
       "      <td>Herzele</td>\n",
       "      <td>50.891145</td>\n",
       "      <td>3.857915</td>\n",
       "      <td>Hoogstraat 20</td>\n",
       "      <td>9550</td>\n",
       "      <td>539000.0</td>\n",
       "      <td>residential_sale</td>\n",
       "      <td>4</td>\n",
       "      <td>65</td>\n",
       "      <td>370.0</td>\n",
       "      <td>hyper_equipped</td>\n",
       "      <td>False</td>\n",
       "      <td>False</td>\n",
       "      <td>True</td>\n",
       "      <td>60.0</td>\n",
       "      <td>False</td>\n",
       "      <td>0.0</td>\n",
       "      <td>370.0</td>\n",
       "      <td>911.0</td>\n",
       "      <td>4.0</td>\n",
       "      <td>False</td>\n",
       "      <td>as_new</td>\n",
       "      <td>Herzele</td>\n",
       "      <td>Oost-Vlaanderen</td>\n",
       "      <td>1515064.0</td>\n",
       "      <td>3007.0</td>\n",
       "      <td>504.0</td>\n",
       "      <td>Hyper equipped</td>\n",
       "      <td>1456.756757</td>\n",
       "    </tr>\n",
       "  </tbody>\n",
       "</table>\n",
       "</div>"
      ],
      "text/plain": [
       "         id type of property   subtype of property    locality   latitude  \\\n",
       "0  10689265            HOUSE    MIXED_USE_BUILDING  Koekelberg  50.863091   \n",
       "1  10687297            HOUSE  EXCEPTIONAL_PROPERTY     Beveren  51.224437   \n",
       "2  10686031            HOUSE                 HOUSE     Seraing  50.598224   \n",
       "3  10686030            HOUSE                 HOUSE     Seraing  50.601548   \n",
       "4  10686027            HOUSE                 VILLA     Herzele  50.891145   \n",
       "\n",
       "   longitude           street  postalCode     price      type of sale  \\\n",
       "0   4.329928  Rue du Noyer 86        1081  575000.0  residential_sale   \n",
       "1   4.246054              NaN        9120  695000.0  residential_sale   \n",
       "2   5.518784   Place Merlot 6        4100  144000.0  residential_sale   \n",
       "3   5.510799   Place Merlot 6        4100  199000.0  residential_sale   \n",
       "4   3.857915    Hoogstraat 20        9550  539000.0  residential_sale   \n",
       "\n",
       "   number of bedrooms  living area  livable area fully equipped kitchen  \\\n",
       "0                   3            0         220.0              installed   \n",
       "1                   4           28         269.0         hyper_equipped   \n",
       "2                   2           14         105.0          semi_equipped   \n",
       "3                   4           25         125.0              installed   \n",
       "4                   4           65         370.0         hyper_equipped   \n",
       "\n",
       "   furnished  open fire  terrace  terrace area  garden  garden area  \\\n",
       "0      False      False     True           0.0   False          0.0   \n",
       "1      False      False     True          41.0    True        300.0   \n",
       "2      False      False     True           0.0    True         25.0   \n",
       "3      False      False     True         108.0    True         28.0   \n",
       "4      False      False     True          60.0   False          0.0   \n",
       "\n",
       "   total property area  total land area  number of facades  swimming pool  \\\n",
       "0                220.0             71.0                2.0          False   \n",
       "1                269.0            583.0                3.0          False   \n",
       "2                105.0            105.0                2.0          False   \n",
       "3                125.0            229.0                2.0          False   \n",
       "4                370.0            911.0                4.0          False   \n",
       "\n",
       "  state of the building    Gemeente         Province  Population  Area(km2)  \\\n",
       "0                  good  Koekelberg          Brussel   1208542.0      162.4   \n",
       "1                as_new     Beveren  Oost-Vlaanderen   1515064.0     3007.0   \n",
       "2                  good     Seraing            Liège   1106992.0     3857.0   \n",
       "3                  good     Seraing            Liège   1106992.0     3857.0   \n",
       "4                as_new     Herzele  Oost-Vlaanderen   1515064.0     3007.0   \n",
       "\n",
       "   Density         kitchen  price per sqr  \n",
       "0   7442.0             NaN    2613.636364  \n",
       "1    504.0  Hyper equipped    2583.643123  \n",
       "2    288.0   Semi equipped    1371.428571  \n",
       "3    288.0             NaN    1592.000000  \n",
       "4    504.0  Hyper equipped    1456.756757  "
      ]
     },
     "execution_count": 247,
     "metadata": {},
     "output_type": "execute_result"
    }
   ],
   "source": [
    "df.head()"
   ]
  },
  {
   "cell_type": "code",
   "execution_count": 248,
   "metadata": {},
   "outputs": [
    {
     "data": {
      "text/plain": [
       "kitchen\n",
       "Hyper equipped    2328\n",
       "Semi equipped     1859\n",
       "Not equipped       675\n",
       "Equipped           410\n",
       "Name: count, dtype: int64"
      ]
     },
     "execution_count": 248,
     "metadata": {},
     "output_type": "execute_result"
    }
   ],
   "source": [
    "df[\"kitchen\"].value_counts()"
   ]
  },
  {
   "cell_type": "markdown",
   "metadata": {},
   "source": [
    "Data cleaning!\n",
    "1. fillna\n",
    "2. remove castles\n",
    "3. scaling certain data\n",
    "4. get dummies\n"
   ]
  },
  {
   "cell_type": "code",
   "execution_count": 249,
   "metadata": {},
   "outputs": [],
   "source": [
    "#drop Nan rows\n",
    "df[\"kitchen\"]=df[\"kitchen\"].fillna(\"Not equipped \")\n",
    "\n",
    "#remove castles\n",
    "castle = df[df[\"subtype of property\"]==\"CASTLE\"].index\n",
    "df.drop(castle,inplace=True)\n",
    "\n",
    "def convert(n):\n",
    "    return int(n/100)\n",
    "df[\"digit\"]=df[\"postalCode\"].agg(convert)\n"
   ]
  },
  {
   "cell_type": "code",
   "execution_count": 250,
   "metadata": {},
   "outputs": [],
   "source": [
    "\n",
    "#get dummies for catagorical data:\n",
    "# get_dummies = [\"Province\",\"type of property\",\"kitchen\",\"subtype of property\",\"state of the building\",\"garden\",\"terrace\",\"digit\"]\n",
    "# df =pd.get_dummies(data=df, columns=get_dummies)\n",
    "\n",
    "df.drop(columns=[\"fully equipped kitchen\"],inplace=True)\n",
    "\n",
    "#replace True with 1, and False with 0, turn them into numerical data\n",
    "df.replace([True,False],[1,0],inplace=True)\n"
   ]
  },
  {
   "cell_type": "code",
   "execution_count": 251,
   "metadata": {},
   "outputs": [
    {
     "data": {
      "text/plain": [
       "(15660, 32)"
      ]
     },
     "execution_count": 251,
     "metadata": {},
     "output_type": "execute_result"
    }
   ],
   "source": [
    "df.shape"
   ]
  },
  {
   "cell_type": "markdown",
   "metadata": {},
   "source": [
    "Remove outliners and castles"
   ]
  },
  {
   "cell_type": "code",
   "execution_count": 252,
   "metadata": {},
   "outputs": [],
   "source": [
    "def remove_outliners(df,columns,n_std):\n",
    "    for col in columns:\n",
    "\n",
    "        mean = df[col].mean()\n",
    "        sd = df[col].std()\n",
    "        df = df[(df[col] <= mean+(n_std*sd))]\n",
    "        df = df[(df[col] >= mean-(n_std*sd))]\n",
    "\n",
    "    return df\n",
    "\n",
    "# def remove_outliner(df, col_names):\n",
    "#     for col_name in col_names:\n",
    "#         q1 = df[col_name].quantile(0.25)\n",
    "#         q3 = df[col_name].quantile(0.75)\n",
    "#         iqr = q3-q1 #Interquartile range\n",
    "#         fence_low  = q1-1.5*iqr\n",
    "#         fence_high = q3+1.5*iqr\n",
    "#         df = df.loc[(df[col_name] > fence_low) & (df[col_name] < fence_high)]\n",
    "\n",
    "#     return df\n",
    "\n"
   ]
  },
  {
   "cell_type": "code",
   "execution_count": 253,
   "metadata": {},
   "outputs": [
    {
     "data": {
      "text/plain": [
       "(11976, 32)"
      ]
     },
     "execution_count": 253,
     "metadata": {},
     "output_type": "execute_result"
    }
   ],
   "source": [
    "# print(df[\"price\"].std())\n",
    "# print(df[\"price\"].mean())\n",
    "df = remove_outliners(df, [\"number of bedrooms\",\"livable area\",\"living area\",\n",
    "                           \"total property area\",\"garden area\",\"total land area\",\"terrace area\",\"price\"],3)\n",
    "#change the building-state description\n",
    "df[\"state of the building\"].replace(['good', 'as_new', 'to_be_done_up', \n",
    "                                       'to_renovate', 'to_restore',\n",
    "                                       'just_renovated', '0'],\n",
    "                                       [\"GOOD\",\"NEW\",\"TO RENOVATE\",\"TO RENOVATE\",\"TO REBUILD\"\n",
    "                                        ,\"JUST RENOVATED\",0],\n",
    "                                       inplace=True)\n",
    "df = df.drop(df[df[\"state of the building\"]==0].index)\n",
    "df.shape"
   ]
  },
  {
   "cell_type": "code",
   "execution_count": 254,
   "metadata": {},
   "outputs": [
    {
     "data": {
      "text/html": [
       "<div>\n",
       "<style scoped>\n",
       "    .dataframe tbody tr th:only-of-type {\n",
       "        vertical-align: middle;\n",
       "    }\n",
       "\n",
       "    .dataframe tbody tr th {\n",
       "        vertical-align: top;\n",
       "    }\n",
       "\n",
       "    .dataframe thead th {\n",
       "        text-align: right;\n",
       "    }\n",
       "</style>\n",
       "<table border=\"1\" class=\"dataframe\">\n",
       "  <thead>\n",
       "    <tr style=\"text-align: right;\">\n",
       "      <th></th>\n",
       "      <th>id</th>\n",
       "      <th>type of property</th>\n",
       "      <th>subtype of property</th>\n",
       "      <th>locality</th>\n",
       "      <th>latitude</th>\n",
       "      <th>longitude</th>\n",
       "      <th>street</th>\n",
       "      <th>postalCode</th>\n",
       "      <th>price</th>\n",
       "      <th>type of sale</th>\n",
       "      <th>number of bedrooms</th>\n",
       "      <th>living area</th>\n",
       "      <th>livable area</th>\n",
       "      <th>furnished</th>\n",
       "      <th>open fire</th>\n",
       "      <th>terrace</th>\n",
       "      <th>terrace area</th>\n",
       "      <th>garden</th>\n",
       "      <th>garden area</th>\n",
       "      <th>total property area</th>\n",
       "      <th>total land area</th>\n",
       "      <th>number of facades</th>\n",
       "      <th>swimming pool</th>\n",
       "      <th>state of the building</th>\n",
       "      <th>Gemeente</th>\n",
       "      <th>Province</th>\n",
       "      <th>Population</th>\n",
       "      <th>Area(km2)</th>\n",
       "      <th>Density</th>\n",
       "      <th>kitchen</th>\n",
       "      <th>price per sqr</th>\n",
       "      <th>digit</th>\n",
       "    </tr>\n",
       "  </thead>\n",
       "  <tbody>\n",
       "    <tr>\n",
       "      <th>0</th>\n",
       "      <td>10689265</td>\n",
       "      <td>HOUSE</td>\n",
       "      <td>MIXED_USE_BUILDING</td>\n",
       "      <td>Koekelberg</td>\n",
       "      <td>50.863091</td>\n",
       "      <td>4.329928</td>\n",
       "      <td>Rue du Noyer 86</td>\n",
       "      <td>1081</td>\n",
       "      <td>575000.0</td>\n",
       "      <td>residential_sale</td>\n",
       "      <td>3</td>\n",
       "      <td>0</td>\n",
       "      <td>220.0</td>\n",
       "      <td>0</td>\n",
       "      <td>0</td>\n",
       "      <td>1</td>\n",
       "      <td>0.0</td>\n",
       "      <td>0</td>\n",
       "      <td>0.0</td>\n",
       "      <td>220.0</td>\n",
       "      <td>71.0</td>\n",
       "      <td>2.0</td>\n",
       "      <td>0</td>\n",
       "      <td>GOOD</td>\n",
       "      <td>Koekelberg</td>\n",
       "      <td>Brussel</td>\n",
       "      <td>1208542.0</td>\n",
       "      <td>162.4</td>\n",
       "      <td>7442.0</td>\n",
       "      <td>Not equipped</td>\n",
       "      <td>2613.636364</td>\n",
       "      <td>10</td>\n",
       "    </tr>\n",
       "    <tr>\n",
       "      <th>1</th>\n",
       "      <td>10687297</td>\n",
       "      <td>HOUSE</td>\n",
       "      <td>EXCEPTIONAL_PROPERTY</td>\n",
       "      <td>Beveren</td>\n",
       "      <td>51.224437</td>\n",
       "      <td>4.246054</td>\n",
       "      <td>NaN</td>\n",
       "      <td>9120</td>\n",
       "      <td>695000.0</td>\n",
       "      <td>residential_sale</td>\n",
       "      <td>4</td>\n",
       "      <td>28</td>\n",
       "      <td>269.0</td>\n",
       "      <td>0</td>\n",
       "      <td>0</td>\n",
       "      <td>1</td>\n",
       "      <td>41.0</td>\n",
       "      <td>1</td>\n",
       "      <td>300.0</td>\n",
       "      <td>269.0</td>\n",
       "      <td>583.0</td>\n",
       "      <td>3.0</td>\n",
       "      <td>0</td>\n",
       "      <td>NEW</td>\n",
       "      <td>Beveren</td>\n",
       "      <td>Oost-Vlaanderen</td>\n",
       "      <td>1515064.0</td>\n",
       "      <td>3007.0</td>\n",
       "      <td>504.0</td>\n",
       "      <td>Hyper equipped</td>\n",
       "      <td>2583.643123</td>\n",
       "      <td>91</td>\n",
       "    </tr>\n",
       "    <tr>\n",
       "      <th>2</th>\n",
       "      <td>10686031</td>\n",
       "      <td>HOUSE</td>\n",
       "      <td>HOUSE</td>\n",
       "      <td>Seraing</td>\n",
       "      <td>50.598224</td>\n",
       "      <td>5.518784</td>\n",
       "      <td>Place Merlot 6</td>\n",
       "      <td>4100</td>\n",
       "      <td>144000.0</td>\n",
       "      <td>residential_sale</td>\n",
       "      <td>2</td>\n",
       "      <td>14</td>\n",
       "      <td>105.0</td>\n",
       "      <td>0</td>\n",
       "      <td>0</td>\n",
       "      <td>1</td>\n",
       "      <td>0.0</td>\n",
       "      <td>1</td>\n",
       "      <td>25.0</td>\n",
       "      <td>105.0</td>\n",
       "      <td>105.0</td>\n",
       "      <td>2.0</td>\n",
       "      <td>0</td>\n",
       "      <td>GOOD</td>\n",
       "      <td>Seraing</td>\n",
       "      <td>Liège</td>\n",
       "      <td>1106992.0</td>\n",
       "      <td>3857.0</td>\n",
       "      <td>288.0</td>\n",
       "      <td>Semi equipped</td>\n",
       "      <td>1371.428571</td>\n",
       "      <td>41</td>\n",
       "    </tr>\n",
       "    <tr>\n",
       "      <th>4</th>\n",
       "      <td>10686027</td>\n",
       "      <td>HOUSE</td>\n",
       "      <td>VILLA</td>\n",
       "      <td>Herzele</td>\n",
       "      <td>50.891145</td>\n",
       "      <td>3.857915</td>\n",
       "      <td>Hoogstraat 20</td>\n",
       "      <td>9550</td>\n",
       "      <td>539000.0</td>\n",
       "      <td>residential_sale</td>\n",
       "      <td>4</td>\n",
       "      <td>65</td>\n",
       "      <td>370.0</td>\n",
       "      <td>0</td>\n",
       "      <td>0</td>\n",
       "      <td>1</td>\n",
       "      <td>60.0</td>\n",
       "      <td>0</td>\n",
       "      <td>0.0</td>\n",
       "      <td>370.0</td>\n",
       "      <td>911.0</td>\n",
       "      <td>4.0</td>\n",
       "      <td>0</td>\n",
       "      <td>NEW</td>\n",
       "      <td>Herzele</td>\n",
       "      <td>Oost-Vlaanderen</td>\n",
       "      <td>1515064.0</td>\n",
       "      <td>3007.0</td>\n",
       "      <td>504.0</td>\n",
       "      <td>Hyper equipped</td>\n",
       "      <td>1456.756757</td>\n",
       "      <td>95</td>\n",
       "    </tr>\n",
       "    <tr>\n",
       "      <th>5</th>\n",
       "      <td>10686410</td>\n",
       "      <td>HOUSE</td>\n",
       "      <td>HOUSE</td>\n",
       "      <td>Forest</td>\n",
       "      <td>50.821444</td>\n",
       "      <td>4.323519</td>\n",
       "      <td>NaN</td>\n",
       "      <td>1190</td>\n",
       "      <td>650000.0</td>\n",
       "      <td>residential_sale</td>\n",
       "      <td>4</td>\n",
       "      <td>16</td>\n",
       "      <td>215.0</td>\n",
       "      <td>0</td>\n",
       "      <td>0</td>\n",
       "      <td>1</td>\n",
       "      <td>10.0</td>\n",
       "      <td>1</td>\n",
       "      <td>90.0</td>\n",
       "      <td>215.0</td>\n",
       "      <td>170.0</td>\n",
       "      <td>2.0</td>\n",
       "      <td>0</td>\n",
       "      <td>TO RENOVATE</td>\n",
       "      <td>Forest</td>\n",
       "      <td>Brussel</td>\n",
       "      <td>1208542.0</td>\n",
       "      <td>162.4</td>\n",
       "      <td>7442.0</td>\n",
       "      <td>Not equipped</td>\n",
       "      <td>3023.255814</td>\n",
       "      <td>11</td>\n",
       "    </tr>\n",
       "  </tbody>\n",
       "</table>\n",
       "</div>"
      ],
      "text/plain": [
       "         id type of property   subtype of property    locality   latitude  \\\n",
       "0  10689265            HOUSE    MIXED_USE_BUILDING  Koekelberg  50.863091   \n",
       "1  10687297            HOUSE  EXCEPTIONAL_PROPERTY     Beveren  51.224437   \n",
       "2  10686031            HOUSE                 HOUSE     Seraing  50.598224   \n",
       "4  10686027            HOUSE                 VILLA     Herzele  50.891145   \n",
       "5  10686410            HOUSE                 HOUSE      Forest  50.821444   \n",
       "\n",
       "   longitude           street  postalCode     price      type of sale  \\\n",
       "0   4.329928  Rue du Noyer 86        1081  575000.0  residential_sale   \n",
       "1   4.246054              NaN        9120  695000.0  residential_sale   \n",
       "2   5.518784   Place Merlot 6        4100  144000.0  residential_sale   \n",
       "4   3.857915    Hoogstraat 20        9550  539000.0  residential_sale   \n",
       "5   4.323519              NaN        1190  650000.0  residential_sale   \n",
       "\n",
       "   number of bedrooms  living area  livable area  furnished  open fire  \\\n",
       "0                   3            0         220.0          0          0   \n",
       "1                   4           28         269.0          0          0   \n",
       "2                   2           14         105.0          0          0   \n",
       "4                   4           65         370.0          0          0   \n",
       "5                   4           16         215.0          0          0   \n",
       "\n",
       "   terrace  terrace area  garden  garden area  total property area  \\\n",
       "0        1           0.0       0          0.0                220.0   \n",
       "1        1          41.0       1        300.0                269.0   \n",
       "2        1           0.0       1         25.0                105.0   \n",
       "4        1          60.0       0          0.0                370.0   \n",
       "5        1          10.0       1         90.0                215.0   \n",
       "\n",
       "   total land area  number of facades  swimming pool state of the building  \\\n",
       "0             71.0                2.0              0                  GOOD   \n",
       "1            583.0                3.0              0                   NEW   \n",
       "2            105.0                2.0              0                  GOOD   \n",
       "4            911.0                4.0              0                   NEW   \n",
       "5            170.0                2.0              0           TO RENOVATE   \n",
       "\n",
       "     Gemeente         Province  Population  Area(km2)  Density  \\\n",
       "0  Koekelberg          Brussel   1208542.0      162.4   7442.0   \n",
       "1     Beveren  Oost-Vlaanderen   1515064.0     3007.0    504.0   \n",
       "2     Seraing            Liège   1106992.0     3857.0    288.0   \n",
       "4     Herzele  Oost-Vlaanderen   1515064.0     3007.0    504.0   \n",
       "5      Forest          Brussel   1208542.0      162.4   7442.0   \n",
       "\n",
       "          kitchen  price per sqr  digit  \n",
       "0   Not equipped     2613.636364     10  \n",
       "1  Hyper equipped    2583.643123     91  \n",
       "2   Semi equipped    1371.428571     41  \n",
       "4  Hyper equipped    1456.756757     95  \n",
       "5   Not equipped     3023.255814     11  "
      ]
     },
     "execution_count": 254,
     "metadata": {},
     "output_type": "execute_result"
    }
   ],
   "source": [
    "df.head()"
   ]
  },
  {
   "cell_type": "markdown",
   "metadata": {},
   "source": [
    "Data formatting: \n",
    "1.normalize the data\n",
    "2.create X,y, split them into training and testing"
   ]
  },
  {
   "cell_type": "code",
   "execution_count": 255,
   "metadata": {},
   "outputs": [],
   "source": [
    "# # fix the distributions of number of bedrooms\n",
    "# df[\"number of bedrooms\"] = np.log(df[\"number of bedrooms\"] + 1)\n",
    "\n",
    "#normalize these columns\n",
    "columns_to_normalize = [\"latitude\",\"longitude\",\"living area\",\"livable area\",\n",
    "                        \"garden area\",\"total property area\",\"total land area\",\"number of facades\",\"number of bedrooms\",\"terrace area\"]\n",
    "\n",
    "# print(df[\"price\"].sort_values())"
   ]
  },
  {
   "cell_type": "code",
   "execution_count": 256,
   "metadata": {},
   "outputs": [],
   "source": [
    "# price would be the target\n",
    "columns_to_drop = [\"id\",\"locality\",\"street\",\"price\",\"type of sale\"\n",
    "                   ,\"Density\",\"Area(km2)\",\n",
    "                   \"Population\",\"price per sqr\",\"open fire\",\"postalCode\",\"Gemeente\",\n",
    "                   \"livable area\",\"latitude\",\"longitude\"]\n",
    "#Now normalize the data)\n",
    "y = df.loc[:,\"price\"].to_numpy().reshape(-1,1)\n",
    "# scale the data\n",
    "X=df.drop(columns=columns_to_drop,axis=1)\n",
    "X = X.to_numpy()\n",
    "\n",
    "\n",
    "# X=preprocessing.normalize(X_raw) \n",
    "# print(X.shape,y.shape)\n",
    "X_train, X_test, y_train, y_test = train_test_split(X, y, test_size= 0.2,random_state=21)\n"
   ]
  },
  {
   "cell_type": "code",
   "execution_count": 257,
   "metadata": {},
   "outputs": [
    {
     "name": "stdout",
     "output_type": "stream",
     "text": [
      "(11976, 17) (9580, 17) (9580, 1)\n"
     ]
    }
   ],
   "source": [
    "print(X.shape, X_train.shape, y_train.shape)\n"
   ]
  },
  {
   "cell_type": "markdown",
   "metadata": {},
   "source": [
    "visualization of the raw_data"
   ]
  },
  {
   "cell_type": "code",
   "execution_count": 258,
   "metadata": {},
   "outputs": [
    {
     "data": {
      "text/html": [
       "<div>\n",
       "<style scoped>\n",
       "    .dataframe tbody tr th:only-of-type {\n",
       "        vertical-align: middle;\n",
       "    }\n",
       "\n",
       "    .dataframe tbody tr th {\n",
       "        vertical-align: top;\n",
       "    }\n",
       "\n",
       "    .dataframe thead th {\n",
       "        text-align: right;\n",
       "    }\n",
       "</style>\n",
       "<table border=\"1\" class=\"dataframe\">\n",
       "  <thead>\n",
       "    <tr style=\"text-align: right;\">\n",
       "      <th></th>\n",
       "      <th>type of property</th>\n",
       "      <th>subtype of property</th>\n",
       "      <th>number of bedrooms</th>\n",
       "      <th>living area</th>\n",
       "      <th>furnished</th>\n",
       "      <th>terrace</th>\n",
       "      <th>terrace area</th>\n",
       "      <th>garden</th>\n",
       "      <th>garden area</th>\n",
       "      <th>total property area</th>\n",
       "      <th>total land area</th>\n",
       "      <th>number of facades</th>\n",
       "      <th>swimming pool</th>\n",
       "      <th>state of the building</th>\n",
       "      <th>Province</th>\n",
       "      <th>kitchen</th>\n",
       "      <th>digit</th>\n",
       "    </tr>\n",
       "  </thead>\n",
       "  <tbody>\n",
       "    <tr>\n",
       "      <th>0</th>\n",
       "      <td>HOUSE</td>\n",
       "      <td>MIXED_USE_BUILDING</td>\n",
       "      <td>3</td>\n",
       "      <td>0</td>\n",
       "      <td>0</td>\n",
       "      <td>1</td>\n",
       "      <td>0.0</td>\n",
       "      <td>0</td>\n",
       "      <td>0.0</td>\n",
       "      <td>220.0</td>\n",
       "      <td>71.0</td>\n",
       "      <td>2.0</td>\n",
       "      <td>0</td>\n",
       "      <td>GOOD</td>\n",
       "      <td>Brussel</td>\n",
       "      <td>Not equipped</td>\n",
       "      <td>10</td>\n",
       "    </tr>\n",
       "    <tr>\n",
       "      <th>1</th>\n",
       "      <td>HOUSE</td>\n",
       "      <td>EXCEPTIONAL_PROPERTY</td>\n",
       "      <td>4</td>\n",
       "      <td>28</td>\n",
       "      <td>0</td>\n",
       "      <td>1</td>\n",
       "      <td>41.0</td>\n",
       "      <td>1</td>\n",
       "      <td>300.0</td>\n",
       "      <td>269.0</td>\n",
       "      <td>583.0</td>\n",
       "      <td>3.0</td>\n",
       "      <td>0</td>\n",
       "      <td>NEW</td>\n",
       "      <td>Oost-Vlaanderen</td>\n",
       "      <td>Hyper equipped</td>\n",
       "      <td>91</td>\n",
       "    </tr>\n",
       "    <tr>\n",
       "      <th>2</th>\n",
       "      <td>HOUSE</td>\n",
       "      <td>HOUSE</td>\n",
       "      <td>2</td>\n",
       "      <td>14</td>\n",
       "      <td>0</td>\n",
       "      <td>1</td>\n",
       "      <td>0.0</td>\n",
       "      <td>1</td>\n",
       "      <td>25.0</td>\n",
       "      <td>105.0</td>\n",
       "      <td>105.0</td>\n",
       "      <td>2.0</td>\n",
       "      <td>0</td>\n",
       "      <td>GOOD</td>\n",
       "      <td>Liège</td>\n",
       "      <td>Semi equipped</td>\n",
       "      <td>41</td>\n",
       "    </tr>\n",
       "    <tr>\n",
       "      <th>4</th>\n",
       "      <td>HOUSE</td>\n",
       "      <td>VILLA</td>\n",
       "      <td>4</td>\n",
       "      <td>65</td>\n",
       "      <td>0</td>\n",
       "      <td>1</td>\n",
       "      <td>60.0</td>\n",
       "      <td>0</td>\n",
       "      <td>0.0</td>\n",
       "      <td>370.0</td>\n",
       "      <td>911.0</td>\n",
       "      <td>4.0</td>\n",
       "      <td>0</td>\n",
       "      <td>NEW</td>\n",
       "      <td>Oost-Vlaanderen</td>\n",
       "      <td>Hyper equipped</td>\n",
       "      <td>95</td>\n",
       "    </tr>\n",
       "    <tr>\n",
       "      <th>5</th>\n",
       "      <td>HOUSE</td>\n",
       "      <td>HOUSE</td>\n",
       "      <td>4</td>\n",
       "      <td>16</td>\n",
       "      <td>0</td>\n",
       "      <td>1</td>\n",
       "      <td>10.0</td>\n",
       "      <td>1</td>\n",
       "      <td>90.0</td>\n",
       "      <td>215.0</td>\n",
       "      <td>170.0</td>\n",
       "      <td>2.0</td>\n",
       "      <td>0</td>\n",
       "      <td>TO RENOVATE</td>\n",
       "      <td>Brussel</td>\n",
       "      <td>Not equipped</td>\n",
       "      <td>11</td>\n",
       "    </tr>\n",
       "  </tbody>\n",
       "</table>\n",
       "</div>"
      ],
      "text/plain": [
       "  type of property   subtype of property  number of bedrooms  living area  \\\n",
       "0            HOUSE    MIXED_USE_BUILDING                   3            0   \n",
       "1            HOUSE  EXCEPTIONAL_PROPERTY                   4           28   \n",
       "2            HOUSE                 HOUSE                   2           14   \n",
       "4            HOUSE                 VILLA                   4           65   \n",
       "5            HOUSE                 HOUSE                   4           16   \n",
       "\n",
       "   furnished  terrace  terrace area  garden  garden area  total property area  \\\n",
       "0          0        1           0.0       0          0.0                220.0   \n",
       "1          0        1          41.0       1        300.0                269.0   \n",
       "2          0        1           0.0       1         25.0                105.0   \n",
       "4          0        1          60.0       0          0.0                370.0   \n",
       "5          0        1          10.0       1         90.0                215.0   \n",
       "\n",
       "   total land area  number of facades  swimming pool state of the building  \\\n",
       "0             71.0                2.0              0                  GOOD   \n",
       "1            583.0                3.0              0                   NEW   \n",
       "2            105.0                2.0              0                  GOOD   \n",
       "4            911.0                4.0              0                   NEW   \n",
       "5            170.0                2.0              0           TO RENOVATE   \n",
       "\n",
       "          Province         kitchen  digit  \n",
       "0          Brussel   Not equipped      10  \n",
       "1  Oost-Vlaanderen  Hyper equipped     91  \n",
       "2            Liège   Semi equipped     41  \n",
       "4  Oost-Vlaanderen  Hyper equipped     95  \n",
       "5          Brussel   Not equipped      11  "
      ]
     },
     "execution_count": 258,
     "metadata": {},
     "output_type": "execute_result"
    }
   ],
   "source": [
    "df.drop(columns=columns_to_drop,axis=1).head()"
   ]
  },
  {
   "cell_type": "code",
   "execution_count": 259,
   "metadata": {},
   "outputs": [
    {
     "data": {
      "text/plain": [
       "array(['GOOD', 'NEW', 'TO RENOVATE', 'TO REBUILD', 'JUST RENOVATED'],\n",
       "      dtype=object)"
      ]
     },
     "execution_count": 259,
     "metadata": {},
     "output_type": "execute_result"
    }
   ],
   "source": [
    "df[\"state of the building\"].unique()"
   ]
  },
  {
   "cell_type": "code",
   "execution_count": 269,
   "metadata": {},
   "outputs": [
    {
     "data": {
      "text/plain": [
       "Index(['type of property', 'subtype of property', 'number of bedrooms',\n",
       "       'living area', 'furnished', 'terrace', 'terrace area', 'garden',\n",
       "       'garden area', 'total property area', 'total land area',\n",
       "       'number of facades', 'swimming pool', 'state of the building',\n",
       "       'Province', 'kitchen', 'digit'],\n",
       "      dtype='object')"
      ]
     },
     "execution_count": 269,
     "metadata": {},
     "output_type": "execute_result"
    }
   ],
   "source": [
    "df.drop(columns=columns_to_drop,axis=1).columns"
   ]
  },
  {
   "cell_type": "markdown",
   "metadata": {},
   "source": []
  },
  {
   "cell_type": "markdown",
   "metadata": {},
   "source": [
    "Using Columntransformer for pipeline OHE"
   ]
  },
  {
   "cell_type": "code",
   "execution_count": 260,
   "metadata": {},
   "outputs": [],
   "source": [
    "trans_1 = ColumnTransformer([('ohe_trans',OneHotEncoder(sparse_output=False, handle_unknown='ignore'), [0,1,13,14,15,16])], remainder='passthrough' )"
   ]
  },
  {
   "cell_type": "markdown",
   "metadata": {},
   "source": [
    "Using Columntransformer for pipeline scaling"
   ]
  },
  {
   "cell_type": "code",
   "execution_count": 261,
   "metadata": {},
   "outputs": [],
   "source": [
    "trans_2 = ColumnTransformer([('scale', MinMaxScaler(),slice(0,len(X)+1))], remainder='passthrough')"
   ]
  },
  {
   "cell_type": "code",
   "execution_count": null,
   "metadata": {},
   "outputs": [],
   "source": []
  },
  {
   "cell_type": "markdown",
   "metadata": {},
   "source": []
  },
  {
   "cell_type": "markdown",
   "metadata": {},
   "source": [
    "Model selection :Linear Regression"
   ]
  },
  {
   "cell_type": "code",
   "execution_count": 262,
   "metadata": {},
   "outputs": [
    {
     "name": "stdout",
     "output_type": "stream",
     "text": [
      "0.630951503474644\n",
      "0.6316122068344776\n"
     ]
    },
    {
     "data": {
      "image/png": "[encoded data removed]",
      "text/plain": [
       "<Figure size 640x480 with 1 Axes>"
      ]
     },
     "metadata": {},
     "output_type": "display_data"
    }
   ],
   "source": [
    "reg = LinearRegression()\n",
    "pipe = Pipeline([('trans_1',trans_1),\n",
    "                 (\"trans_2\",trans_2),\n",
    "                 ('trans_3',reg)])\n",
    "\n",
    "pipe.fit(X_train, y_train)\n",
    "print(pipe.score(X_train,y_train))\n",
    "print(pipe.score(X_test,y_test))\n",
    "y_pred = pipe.predict(X_test)\n",
    "\n",
    "#show result\n",
    "a = np.array([0,max(y_test)[0]])\n",
    "plt.scatter(y_test,y_pred)\n",
    "plt.plot(a,a,color=\"red\")\n",
    "plt.xlabel(\"y_test\")\n",
    "plt.ylabel(\"y_predict\")\n",
    "plt.title(\"Linear Regression\")\n",
    "plt.show()"
   ]
  },
  {
   "cell_type": "markdown",
   "metadata": {},
   "source": [
    "Decision Tree?\n"
   ]
  },
  {
   "cell_type": "code",
   "execution_count": 263,
   "metadata": {},
   "outputs": [
    {
     "name": "stdout",
     "output_type": "stream",
     "text": [
      "0.7506397209976602\n",
      "0.6288621536003606\n"
     ]
    },
    {
     "data": {
      "image/png": "[encoded data removed]",
      "text/plain": [
       "<Figure size 640x480 with 1 Axes>"
      ]
     },
     "metadata": {},
     "output_type": "display_data"
    }
   ],
   "source": [
    "from sklearn.tree import DecisionTreeRegressor\n",
    "\n",
    "#depth, minimum samples, and minimum sample split. \n",
    "#These values can be tuned to ensure that we are able to achieve early stopping.\n",
    "clf = DecisionTreeRegressor(min_samples_leaf=10,max_features=0.9)\n",
    "pipe = Pipeline([('trans_1',trans_1),\n",
    "                 (\"trans_2\",trans_2),\n",
    "                 ('trans_3',clf)])\n",
    "\n",
    "pipe.fit(X_train, y_train)\n",
    "print(pipe.score(X_train,y_train))\n",
    "print(pipe.score(X_test,y_test))\n",
    "y_pred = pipe.predict(X_test)\n",
    "#show result\n",
    "a = np.array([0,max(y_test)[0]])\n",
    "plt.scatter(y_test,y_pred)\n",
    "plt.plot(a,a,color=\"red\")\n",
    "plt.xlabel(\"y_test\")\n",
    "plt.ylabel(\"y_predict\")\n",
    "plt.title(\"Decision Tree\")\n",
    "plt.show()\n"
   ]
  },
  {
   "cell_type": "markdown",
   "metadata": {},
   "source": [
    "Applying hyperparament tunning to the decision tree model"
   ]
  },
  {
   "cell_type": "code",
   "execution_count": 264,
   "metadata": {},
   "outputs": [],
   "source": [
    "\n",
    "def single_grid_search(X_train, y_train):\n",
    "    \"\"\"\n",
    "    Performs a grid search using the training set given.\n",
    "    \"\"\"\n",
    "    # Setting all the parameters we want to test\n",
    "    \"\"\"params = {\n",
    "        'max_features' : np.arange(0.1,1,0.1).tolist(), #Number of features to consider as a fraction of all features\n",
    "        'max_depth': [1,2,4,8, None],# Depth of the tree\n",
    "    \"min_samples_leaf\":[1,2,4,8,10]\n",
    "    }\n",
    "\n",
    "    gridsearch = GridSearchCV(estimator = clf,\n",
    "                            param_grid = params,\n",
    "                            cv = 5, # Use 5 folds\n",
    "                            verbose = 0,\n",
    "                            n_jobs = -1 #Use all but one CPU core\n",
    "                            )\n",
    "    return gridsearch.fit(X_train, y_train)\n",
    "\n",
    "result = single_grid_search(X_train, y_train)\n",
    "decision_tree = result.best_estimator_\n",
    "score = decision_tree.score(X_test, y_test)\n",
    "print(\"The generalization accuracy of the model is {:.2f}%\".format(score * 100))\"\"\""
   ]
  },
  {
   "cell_type": "code",
   "execution_count": 265,
   "metadata": {},
   "outputs": [
    {
     "data": {
      "text/plain": [
       "'kf = KFold(n_splits=5, random_state=45, shuffle=True)\\n\\nsplit = 0\\nscores = []\\nfor train_index, test_index in kf.split(X,y):\\n    \\n    X_train, X_test = X[train_index], X[test_index]\\n    y_train, y_test = y[train_index], y[test_index]\\n    \\n    result = single_grid_search(X_train, y_train)\\n    \\n    decision_tree = result.best_estimator_\\n    score = decision_tree.score(X_test, y_test)\\n    scores.append(score)\\n    print(\"### Split {}: Accuracy is {:.2f}% ###\".format(split := split + 1, score*100))'"
      ]
     },
     "execution_count": 265,
     "metadata": {},
     "output_type": "execute_result"
    }
   ],
   "source": [
    "# Now we can create k train-test splits using KFold\n",
    "from sklearn.model_selection import KFold\n",
    "\n",
    "# Using KFold instead of calling multiple times train_test_split to ensure that each\n",
    "# sample goes into a single split only\n",
    "\"\"\"kf = KFold(n_splits=5, random_state=45, shuffle=True)\n",
    "\n",
    "split = 0\n",
    "scores = []\n",
    "for train_index, test_index in kf.split(X,y):\n",
    "    \n",
    "    X_train, X_test = X[train_index], X[test_index]\n",
    "    y_train, y_test = y[train_index], y[test_index]\n",
    "    \n",
    "    result = single_grid_search(X_train, y_train)\n",
    "    \n",
    "    decision_tree = result.best_estimator_\n",
    "    score = decision_tree.score(X_test, y_test)\n",
    "    scores.append(score)\n",
    "    print(\"### Split {}: Accuracy is {:.2f}% ###\".format(split := split + 1, score*100))\"\"\""
   ]
  },
  {
   "cell_type": "markdown",
   "metadata": {},
   "source": [
    "Try XGboost"
   ]
  },
  {
   "cell_type": "code",
   "execution_count": 266,
   "metadata": {},
   "outputs": [
    {
     "name": "stdout",
     "output_type": "stream",
     "text": [
      "0.8965254711037606\n",
      "0.7467167059933617\n"
     ]
    },
    {
     "data": {
      "image/png": "[encoded data removed]",
      "text/plain": [
       "<Figure size 640x480 with 1 Axes>"
      ]
     },
     "metadata": {},
     "output_type": "display_data"
    }
   ],
   "source": [
    "#use XGBregressor! instead of XGBclassifier!!\n",
    "from xgboost import XGBRegressor\n",
    "model= XGBRegressor()\n",
    "pipe = Pipeline([('trans_1',trans_1),\n",
    "                 (\"trans_2\",trans_2),\n",
    "                 ('trans_3',model)])\n",
    "\n",
    "pipe.fit(X_train, y_train)\n",
    "print(pipe.score(X_train,y_train))\n",
    "print(pipe.score(X_test,y_test))\n",
    "y_pred = pipe.predict(X_test)\n",
    "\n",
    "#show result\n",
    "a = np.array([0,max(y_test)[0]])\n",
    "plt.scatter(y_test,y_pred)\n",
    "plt.plot(a,a,color=\"red\")\n",
    "plt.xlabel(\"y_test\")\n",
    "plt.ylabel(\"y_predict\")\n",
    "plt.title(\"XGBoost\")\n",
    "plt.show()"
   ]
  },
  {
   "cell_type": "markdown",
   "metadata": {},
   "source": [
    "Random Forest"
   ]
  },
  {
   "cell_type": "code",
   "execution_count": 267,
   "metadata": {},
   "outputs": [
    {
     "name": "stderr",
     "output_type": "stream",
     "text": [
      "c:\\Users\\spike\\Documents\\study\\becode_projects\\Real_Estate_Analysis\\immovenv\\Lib\\site-packages\\sklearn\\base.py:1151: DataConversionWarning: A column-vector y was passed when a 1d array was expected. Please change the shape of y to (n_samples,), for example using ravel().\n",
      "  return fit_method(estimator, *args, **kwargs)\n"
     ]
    },
    {
     "name": "stdout",
     "output_type": "stream",
     "text": [
      "0.950133596758061\n",
      "0.7043345694647934\n"
     ]
    },
    {
     "data": {
      "image/png": "[encoded data removed]",
      "text/plain": [
       "<Figure size 640x480 with 1 Axes>"
      ]
     },
     "metadata": {},
     "output_type": "display_data"
    }
   ],
   "source": [
    "from sklearn.ensemble import RandomForestRegressor\n",
    "reg = RandomForestRegressor(n_estimators=20)\n",
    "pipe = Pipeline([('trans_1',trans_1),\n",
    "                 (\"trans_2\",trans_2),\n",
    "                 ('trans_3',reg)])\n",
    "\n",
    "pipe.fit(X_train, y_train)\n",
    "print(pipe.score(X_train,y_train))\n",
    "print(pipe.score(X_test,y_test))\n",
    "y_pred = pipe.predict(X_test)\n",
    "\n",
    "#show result\n",
    "a = np.array([0,max(y_test)[0]])\n",
    "plt.scatter(y_test,y_pred)\n",
    "plt.plot(a,a,color=\"red\")\n",
    "plt.xlabel(\"y_test\")\n",
    "plt.ylabel(\"y_predict\")\n",
    "plt.title(\"RandomForest\")\n",
    "plt.show()"
   ]
  }
 ],
 "metadata": {
  "kernelspec": {
   "display_name": "immovenv",
   "language": "python",
   "name": "python3"
  },
  "language_info": {
   "codemirror_mode": {
    "name": "ipython",
    "version": 3
   },
   "file_extension": ".py",
   "mimetype": "text/x-python",
   "name": "python",
   "nbconvert_exporter": "python",
   "pygments_lexer": "ipython3",
   "version": "3.11.3"
  },
  "orig_nbformat": 4
 },
 "nbformat": 4,
 "nbformat_minor": 2
}
