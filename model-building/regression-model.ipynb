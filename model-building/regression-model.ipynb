{
 "cells": [
  {
   "cell_type": "code",
   "execution_count": 1645,
   "metadata": {},
   "outputs": [],
   "source": [
    "from sklearn.linear_model import LinearRegression\n",
    "from sklearn.model_selection import train_test_split\n",
    "from sklearn import preprocessing\n",
    "import pandas as pd\n",
    "import matplotlib.pyplot as plt\n",
    "import seaborn as sns\n",
    "import numpy as np\n",
    "from sklearn.model_selection import cross_val_score"
   ]
  },
  {
   "cell_type": "markdown",
   "metadata": {},
   "source": [
    "Improt the dataset"
   ]
  },
  {
   "cell_type": "code",
   "execution_count": 1646,
   "metadata": {},
   "outputs": [],
   "source": [
    "#setup display options\n",
    "pd.set_option('display.max_columns', None)\n",
    "pd.set_option('display.min_rows', 15)\n",
    "\n",
    "df = pd.read_csv(\"..\\data\\data_cleaned.csv\",index_col=[0])\n"
   ]
  },
  {
   "cell_type": "code",
   "execution_count": 1647,
   "metadata": {},
   "outputs": [
    {
     "data": {
      "text/html": [
       "<div>\n",
       "<style scoped>\n",
       "    .dataframe tbody tr th:only-of-type {\n",
       "        vertical-align: middle;\n",
       "    }\n",
       "\n",
       "    .dataframe tbody tr th {\n",
       "        vertical-align: top;\n",
       "    }\n",
       "\n",
       "    .dataframe thead th {\n",
       "        text-align: right;\n",
       "    }\n",
       "</style>\n",
       "<table border=\"1\" class=\"dataframe\">\n",
       "  <thead>\n",
       "    <tr style=\"text-align: right;\">\n",
       "      <th></th>\n",
       "      <th>id</th>\n",
       "      <th>type of property</th>\n",
       "      <th>subtype of property</th>\n",
       "      <th>locality</th>\n",
       "      <th>latitude</th>\n",
       "      <th>longitude</th>\n",
       "      <th>street</th>\n",
       "      <th>postalCode</th>\n",
       "      <th>price</th>\n",
       "      <th>type of sale</th>\n",
       "      <th>number of bedrooms</th>\n",
       "      <th>living area</th>\n",
       "      <th>livable area</th>\n",
       "      <th>fully equipped kitchen</th>\n",
       "      <th>furnished</th>\n",
       "      <th>open fire</th>\n",
       "      <th>terrace</th>\n",
       "      <th>terrace area</th>\n",
       "      <th>garden</th>\n",
       "      <th>garden area</th>\n",
       "      <th>total property area</th>\n",
       "      <th>total land area</th>\n",
       "      <th>number of facades</th>\n",
       "      <th>swimming pool</th>\n",
       "      <th>state of the building</th>\n",
       "      <th>Gemeente</th>\n",
       "      <th>Province</th>\n",
       "      <th>Population( per province)</th>\n",
       "      <th>Area(per province)</th>\n",
       "      <th>Density</th>\n",
       "      <th>kitchen</th>\n",
       "      <th>price per sqr</th>\n",
       "    </tr>\n",
       "  </thead>\n",
       "  <tbody>\n",
       "    <tr>\n",
       "      <th>0</th>\n",
       "      <td>10689265</td>\n",
       "      <td>HOUSE</td>\n",
       "      <td>MIXED_USE_BUILDING</td>\n",
       "      <td>Koekelberg</td>\n",
       "      <td>50.863091</td>\n",
       "      <td>4.329928</td>\n",
       "      <td>Rue du Noyer 86</td>\n",
       "      <td>1081</td>\n",
       "      <td>575000.0</td>\n",
       "      <td>residential_sale</td>\n",
       "      <td>3</td>\n",
       "      <td>0</td>\n",
       "      <td>220.0</td>\n",
       "      <td>installed</td>\n",
       "      <td>False</td>\n",
       "      <td>False</td>\n",
       "      <td>True</td>\n",
       "      <td>0.0</td>\n",
       "      <td>False</td>\n",
       "      <td>0.0</td>\n",
       "      <td>220.0</td>\n",
       "      <td>71.0</td>\n",
       "      <td>2.0</td>\n",
       "      <td>False</td>\n",
       "      <td>good</td>\n",
       "      <td>Koekelberg</td>\n",
       "      <td>Brussel</td>\n",
       "      <td>1208542.0</td>\n",
       "      <td>162.4</td>\n",
       "      <td>7442.0</td>\n",
       "      <td>NaN</td>\n",
       "      <td>2613.636364</td>\n",
       "    </tr>\n",
       "    <tr>\n",
       "      <th>1</th>\n",
       "      <td>10687297</td>\n",
       "      <td>HOUSE</td>\n",
       "      <td>EXCEPTIONAL_PROPERTY</td>\n",
       "      <td>Beveren</td>\n",
       "      <td>51.224437</td>\n",
       "      <td>4.246054</td>\n",
       "      <td>NaN</td>\n",
       "      <td>9120</td>\n",
       "      <td>695000.0</td>\n",
       "      <td>residential_sale</td>\n",
       "      <td>4</td>\n",
       "      <td>28</td>\n",
       "      <td>269.0</td>\n",
       "      <td>hyper_equipped</td>\n",
       "      <td>False</td>\n",
       "      <td>False</td>\n",
       "      <td>True</td>\n",
       "      <td>41.0</td>\n",
       "      <td>True</td>\n",
       "      <td>300.0</td>\n",
       "      <td>269.0</td>\n",
       "      <td>583.0</td>\n",
       "      <td>3.0</td>\n",
       "      <td>False</td>\n",
       "      <td>as_new</td>\n",
       "      <td>Beveren</td>\n",
       "      <td>Oost-Vlaanderen</td>\n",
       "      <td>1515064.0</td>\n",
       "      <td>3007.0</td>\n",
       "      <td>504.0</td>\n",
       "      <td>Hyper equipped</td>\n",
       "      <td>2583.643123</td>\n",
       "    </tr>\n",
       "    <tr>\n",
       "      <th>2</th>\n",
       "      <td>10686031</td>\n",
       "      <td>HOUSE</td>\n",
       "      <td>HOUSE</td>\n",
       "      <td>Seraing</td>\n",
       "      <td>50.598224</td>\n",
       "      <td>5.518784</td>\n",
       "      <td>Place Merlot 6</td>\n",
       "      <td>4100</td>\n",
       "      <td>144000.0</td>\n",
       "      <td>residential_sale</td>\n",
       "      <td>2</td>\n",
       "      <td>14</td>\n",
       "      <td>105.0</td>\n",
       "      <td>semi_equipped</td>\n",
       "      <td>False</td>\n",
       "      <td>False</td>\n",
       "      <td>True</td>\n",
       "      <td>0.0</td>\n",
       "      <td>True</td>\n",
       "      <td>25.0</td>\n",
       "      <td>105.0</td>\n",
       "      <td>105.0</td>\n",
       "      <td>2.0</td>\n",
       "      <td>False</td>\n",
       "      <td>good</td>\n",
       "      <td>Seraing</td>\n",
       "      <td>Liège</td>\n",
       "      <td>1106992.0</td>\n",
       "      <td>3857.0</td>\n",
       "      <td>288.0</td>\n",
       "      <td>Semi equipped</td>\n",
       "      <td>1371.428571</td>\n",
       "    </tr>\n",
       "    <tr>\n",
       "      <th>3</th>\n",
       "      <td>10686030</td>\n",
       "      <td>HOUSE</td>\n",
       "      <td>HOUSE</td>\n",
       "      <td>Seraing</td>\n",
       "      <td>50.601548</td>\n",
       "      <td>5.510799</td>\n",
       "      <td>Place Merlot 6</td>\n",
       "      <td>4100</td>\n",
       "      <td>199000.0</td>\n",
       "      <td>residential_sale</td>\n",
       "      <td>4</td>\n",
       "      <td>25</td>\n",
       "      <td>125.0</td>\n",
       "      <td>installed</td>\n",
       "      <td>False</td>\n",
       "      <td>False</td>\n",
       "      <td>True</td>\n",
       "      <td>108.0</td>\n",
       "      <td>True</td>\n",
       "      <td>28.0</td>\n",
       "      <td>125.0</td>\n",
       "      <td>229.0</td>\n",
       "      <td>2.0</td>\n",
       "      <td>False</td>\n",
       "      <td>good</td>\n",
       "      <td>Seraing</td>\n",
       "      <td>Liège</td>\n",
       "      <td>1106992.0</td>\n",
       "      <td>3857.0</td>\n",
       "      <td>288.0</td>\n",
       "      <td>NaN</td>\n",
       "      <td>1592.000000</td>\n",
       "    </tr>\n",
       "    <tr>\n",
       "      <th>4</th>\n",
       "      <td>10686027</td>\n",
       "      <td>HOUSE</td>\n",
       "      <td>VILLA</td>\n",
       "      <td>Herzele</td>\n",
       "      <td>50.891145</td>\n",
       "      <td>3.857915</td>\n",
       "      <td>Hoogstraat 20</td>\n",
       "      <td>9550</td>\n",
       "      <td>539000.0</td>\n",
       "      <td>residential_sale</td>\n",
       "      <td>4</td>\n",
       "      <td>65</td>\n",
       "      <td>370.0</td>\n",
       "      <td>hyper_equipped</td>\n",
       "      <td>False</td>\n",
       "      <td>False</td>\n",
       "      <td>True</td>\n",
       "      <td>60.0</td>\n",
       "      <td>False</td>\n",
       "      <td>0.0</td>\n",
       "      <td>370.0</td>\n",
       "      <td>911.0</td>\n",
       "      <td>4.0</td>\n",
       "      <td>False</td>\n",
       "      <td>as_new</td>\n",
       "      <td>Herzele</td>\n",
       "      <td>Oost-Vlaanderen</td>\n",
       "      <td>1515064.0</td>\n",
       "      <td>3007.0</td>\n",
       "      <td>504.0</td>\n",
       "      <td>Hyper equipped</td>\n",
       "      <td>1456.756757</td>\n",
       "    </tr>\n",
       "  </tbody>\n",
       "</table>\n",
       "</div>"
      ],
      "text/plain": [
       "         id type of property   subtype of property    locality   latitude  \\\n",
       "0  10689265            HOUSE    MIXED_USE_BUILDING  Koekelberg  50.863091   \n",
       "1  10687297            HOUSE  EXCEPTIONAL_PROPERTY     Beveren  51.224437   \n",
       "2  10686031            HOUSE                 HOUSE     Seraing  50.598224   \n",
       "3  10686030            HOUSE                 HOUSE     Seraing  50.601548   \n",
       "4  10686027            HOUSE                 VILLA     Herzele  50.891145   \n",
       "\n",
       "   longitude           street  postalCode     price      type of sale  \\\n",
       "0   4.329928  Rue du Noyer 86        1081  575000.0  residential_sale   \n",
       "1   4.246054              NaN        9120  695000.0  residential_sale   \n",
       "2   5.518784   Place Merlot 6        4100  144000.0  residential_sale   \n",
       "3   5.510799   Place Merlot 6        4100  199000.0  residential_sale   \n",
       "4   3.857915    Hoogstraat 20        9550  539000.0  residential_sale   \n",
       "\n",
       "   number of bedrooms  living area  livable area fully equipped kitchen  \\\n",
       "0                   3            0         220.0              installed   \n",
       "1                   4           28         269.0         hyper_equipped   \n",
       "2                   2           14         105.0          semi_equipped   \n",
       "3                   4           25         125.0              installed   \n",
       "4                   4           65         370.0         hyper_equipped   \n",
       "\n",
       "   furnished  open fire  terrace  terrace area  garden  garden area  \\\n",
       "0      False      False     True           0.0   False          0.0   \n",
       "1      False      False     True          41.0    True        300.0   \n",
       "2      False      False     True           0.0    True         25.0   \n",
       "3      False      False     True         108.0    True         28.0   \n",
       "4      False      False     True          60.0   False          0.0   \n",
       "\n",
       "   total property area  total land area  number of facades  swimming pool  \\\n",
       "0                220.0             71.0                2.0          False   \n",
       "1                269.0            583.0                3.0          False   \n",
       "2                105.0            105.0                2.0          False   \n",
       "3                125.0            229.0                2.0          False   \n",
       "4                370.0            911.0                4.0          False   \n",
       "\n",
       "  state of the building    Gemeente         Province  \\\n",
       "0                  good  Koekelberg          Brussel   \n",
       "1                as_new     Beveren  Oost-Vlaanderen   \n",
       "2                  good     Seraing            Liège   \n",
       "3                  good     Seraing            Liège   \n",
       "4                as_new     Herzele  Oost-Vlaanderen   \n",
       "\n",
       "   Population( per province)  Area(per province)  Density         kitchen  \\\n",
       "0                  1208542.0               162.4   7442.0             NaN   \n",
       "1                  1515064.0              3007.0    504.0  Hyper equipped   \n",
       "2                  1106992.0              3857.0    288.0   Semi equipped   \n",
       "3                  1106992.0              3857.0    288.0             NaN   \n",
       "4                  1515064.0              3007.0    504.0  Hyper equipped   \n",
       "\n",
       "   price per sqr  \n",
       "0    2613.636364  \n",
       "1    2583.643123  \n",
       "2    1371.428571  \n",
       "3    1592.000000  \n",
       "4    1456.756757  "
      ]
     },
     "execution_count": 1647,
     "metadata": {},
     "output_type": "execute_result"
    }
   ],
   "source": [
    "df.head()"
   ]
  },
  {
   "cell_type": "code",
   "execution_count": 1648,
   "metadata": {},
   "outputs": [
    {
     "data": {
      "text/plain": [
       "latitude\n",
       "False    12976\n",
       "True      2694\n",
       "Name: count, dtype: int64"
      ]
     },
     "execution_count": 1648,
     "metadata": {},
     "output_type": "execute_result"
    }
   ],
   "source": [
    "df[\"subtype of property\"].value_counts()\n",
    "df[\"latitude\"].isna().value_counts()"
   ]
  },
  {
   "cell_type": "markdown",
   "metadata": {},
   "source": [
    "Data cleaning!\n",
    "1. fillna\n",
    "2. remove castles\n",
    "3. scaling certain data\n",
    "4. get dummies\n"
   ]
  },
  {
   "cell_type": "code",
   "execution_count": 1649,
   "metadata": {},
   "outputs": [],
   "source": [
    "#replace categorical data with number\n",
    "df.drop(df[\"kitchen\"].isna().index)\n",
    "\n",
    "#remove the properties without coordinates\n",
    "lon_la = (df[\"latitude\"].isna()) | (df[\"longitude\"].isna())\n",
    "df.drop(df.loc[lon_la].index,inplace=True)\n",
    "\n",
    "#remove castles\n",
    "castle = df[df[\"subtype of property\"]==\"CASTLE\"].index\n",
    "df.drop(castle,inplace=True)\n",
    "\n",
    "\n",
    "def convert(n):\n",
    "    return int(n/100)\n",
    "df[\"digit\"]=df[\"postalCode\"].agg(convert)\n",
    "\n",
    "#get dummies for catagorical data:\n",
    "get_dummies = [\"Province\",\"type of property\",\"kitchen\",\"subtype of property\",\"state of the building\",\"garden\",\"terrace\",\"digit\"]\n",
    "df =pd.get_dummies(data=df, columns=get_dummies)\n",
    "\n",
    "df.drop(columns=[\"fully equipped kitchen\"],inplace=True)\n",
    "\n",
    "#replace True with 1, and False with 0, turn them into numerical data\n",
    "df.replace([True,False],[1,0],inplace=True)\n"
   ]
  },
  {
   "cell_type": "code",
   "execution_count": 1650,
   "metadata": {},
   "outputs": [
    {
     "data": {
      "text/plain": [
       "(12970, 153)"
      ]
     },
     "execution_count": 1650,
     "metadata": {},
     "output_type": "execute_result"
    }
   ],
   "source": [
    "df.shape"
   ]
  },
  {
   "cell_type": "markdown",
   "metadata": {},
   "source": [
    "Remove outliners and castles"
   ]
  },
  {
   "cell_type": "code",
   "execution_count": 1651,
   "metadata": {},
   "outputs": [],
   "source": [
    "def remove_outliners(df,columns,n_std):\n",
    "    for col in columns:\n",
    "\n",
    "        mean = df[col].mean()\n",
    "        sd = df[col].std()\n",
    "        df = df[(df[col] <= mean+(n_std*sd))]\n",
    "        df = df[(df[col] >= mean-(n_std*sd))]\n",
    "\n",
    "    return df\n",
    "\n",
    "# def remove_outliner(df, col_names):\n",
    "#     for col_name in col_names:\n",
    "#         q1 = df[col_name].quantile(0.25)\n",
    "#         q3 = df[col_name].quantile(0.75)\n",
    "#         iqr = q3-q1 #Interquartile range\n",
    "#         fence_low  = q1-1.5*iqr\n",
    "#         fence_high = q3+1.5*iqr\n",
    "#         df = df.loc[(df[col_name] > fence_low) & (df[col_name] < fence_high)]\n",
    "\n",
    "#     return df\n",
    "\n"
   ]
  },
  {
   "cell_type": "code",
   "execution_count": 1652,
   "metadata": {},
   "outputs": [
    {
     "data": {
      "text/plain": [
       "(12299, 153)"
      ]
     },
     "execution_count": 1652,
     "metadata": {},
     "output_type": "execute_result"
    }
   ],
   "source": [
    "# print(df[\"price\"].std())\n",
    "# print(df[\"price\"].mean())\n",
    "df = remove_outliners(df, [\"number of bedrooms\",\"livable area\",\"living area\",\n",
    "                           \"total property area\",\"garden area\",\"total land area\",\"terrace area\"],3)\n",
    "df.shape"
   ]
  },
  {
   "cell_type": "code",
   "execution_count": null,
   "metadata": {},
   "outputs": [],
   "source": []
  },
  {
   "cell_type": "markdown",
   "metadata": {},
   "source": [
    "Data formatting: \n",
    "1.normalize the data\n",
    "2.create X,y, split them into training and testing"
   ]
  },
  {
   "cell_type": "code",
   "execution_count": 1653,
   "metadata": {},
   "outputs": [],
   "source": [
    "# # fix the distributions of number of bedrooms\n",
    "# df[\"number of bedrooms\"] = np.log(df[\"number of bedrooms\"] + 1)\n",
    "\n",
    "#normalize these columns\n",
    "columns_to_normalize = [\"latitude\",\"longitude\",\"living area\",\"livable area\",\n",
    "                        \"garden area\",\"total property area\",\"total land area\",\"number of facades\",\"number of bedrooms\",\"terrace area\"]\n",
    "\n",
    "# print(df[\"price\"].sort_values())"
   ]
  },
  {
   "cell_type": "code",
   "execution_count": 1654,
   "metadata": {},
   "outputs": [
    {
     "ename": "AttributeError",
     "evalue": "'numpy.ndarray' object has no attribute 'to_numpy'",
     "output_type": "error",
     "traceback": [
      "\u001b[1;31m---------------------------------------------------------------------------\u001b[0m",
      "\u001b[1;31mAttributeError\u001b[0m                            Traceback (most recent call last)",
      "Cell \u001b[1;32mIn[1654], line 8\u001b[0m\n\u001b[0;32m      6\u001b[0m X_raw\u001b[39m=\u001b[39mdf\u001b[39m.\u001b[39mdrop(columns\u001b[39m=\u001b[39mcolumns_to_drop,axis\u001b[39m=\u001b[39m\u001b[39m1\u001b[39m)\n\u001b[0;32m      7\u001b[0m X_raw \u001b[39m=\u001b[39m preprocessing\u001b[39m.\u001b[39mminmax_scale(X_raw)\n\u001b[1;32m----> 8\u001b[0m X \u001b[39m=\u001b[39m X_raw\u001b[39m.\u001b[39;49mto_numpy()\n\u001b[0;32m      9\u001b[0m y \u001b[39m=\u001b[39m df\u001b[39m.\u001b[39mloc[:,\u001b[39m\"\u001b[39m\u001b[39mprice\u001b[39m\u001b[39m\"\u001b[39m]\u001b[39m.\u001b[39mto_numpy()\u001b[39m.\u001b[39mreshape(\u001b[39m-\u001b[39m\u001b[39m1\u001b[39m,\u001b[39m1\u001b[39m)\n\u001b[0;32m     10\u001b[0m display(df\u001b[39m.\u001b[39mdrop(columns\u001b[39m=\u001b[39mcolumns_to_drop,axis\u001b[39m=\u001b[39m\u001b[39m1\u001b[39m)\u001b[39m.\u001b[39mhead())\n",
      "\u001b[1;31mAttributeError\u001b[0m: 'numpy.ndarray' object has no attribute 'to_numpy'"
     ]
    }
   ],
   "source": [
    "# price would be the target\n",
    "columns_to_drop = [\"id\",\"locality\",\"street\",\"price\",\"type of sale\"\n",
    "                   ,\"Density\",\"Area(per province)\",\n",
    "                   \"Population( per province)\",\"price per sqr\",\"open fire\",\"postalCode\",\"Gemeente\"\n",
    "                   ]\n",
    "X=df.drop(columns=columns_to_drop,axis=1)\n",
    "df=preprocessing.normalize(df[columns_to_normalize])\n",
    "X = .to_numpy()\n",
    "y = df.loc[:,\"price\"].to_numpy().reshape(-1,1)\n",
    "display(df.drop(columns=columns_to_drop,axis=1).head())\n",
    "#Now normalize the data\n",
    "# X=preprocessing.normalize(X_raw) \n",
    "# print(X.shape,y.shape)\n",
    "X_train, X_test, y_train, y_test = train_test_split(X, y, test_size= 0.2)\n"
   ]
  },
  {
   "cell_type": "code",
   "execution_count": null,
   "metadata": {},
   "outputs": [
    {
     "name": "stdout",
     "output_type": "stream",
     "text": [
      "(12299, 141) (9839, 141) (9839, 1)\n"
     ]
    }
   ],
   "source": [
    "print(X.shape, X_train.shape, y_train.shape)\n"
   ]
  },
  {
   "cell_type": "markdown",
   "metadata": {},
   "source": [
    "visualization of the raw_data"
   ]
  },
  {
   "cell_type": "code",
   "execution_count": null,
   "metadata": {},
   "outputs": [],
   "source": [
    "\n",
    "# df[columns_to_select].hist(figsize=(15,8))\n",
    "\n"
   ]
  },
  {
   "cell_type": "markdown",
   "metadata": {},
   "source": [
    "Model selection :Linear Regression"
   ]
  },
  {
   "cell_type": "code",
   "execution_count": null,
   "metadata": {},
   "outputs": [
    {
     "name": "stdout",
     "output_type": "stream",
     "text": [
      "0.4514914871452783\n",
      "0.4090386603355106\n"
     ]
    }
   ],
   "source": [
    "reg = LinearRegression()\n",
    "reg.fit(X_train, y_train)\n",
    "\n",
    "# y_pred = reg.predict(X_test)\n",
    "print(reg.score(X_train,y_train))\n",
    "print(reg.score(X_test,y_test))\n",
    "\n"
   ]
  },
  {
   "cell_type": "markdown",
   "metadata": {},
   "source": [
    "Decision Tree?\n"
   ]
  },
  {
   "cell_type": "code",
   "execution_count": null,
   "metadata": {},
   "outputs": [
    {
     "data": {
      "text/plain": [
       "0.026829268292682926"
      ]
     },
     "execution_count": 1632,
     "metadata": {},
     "output_type": "execute_result"
    }
   ],
   "source": [
    "from sklearn.tree import DecisionTreeClassifier\n",
    "from sklearn import metrics\n",
    "\n",
    "clf = DecisionTreeClassifier(max_depth=50,max_leaf_nodes=50)\n",
    "clf.fit(X_train,y_train)\n",
    "clf.score(X_train,y_train)\n",
    "clf.score(X_test,y_test)\n",
    "\n"
   ]
  },
  {
   "cell_type": "markdown",
   "metadata": {},
   "source": [
    "Try XGboost"
   ]
  },
  {
   "cell_type": "code",
   "execution_count": null,
   "metadata": {},
   "outputs": [
    {
     "ename": "ValueError",
     "evalue": "Invalid classes inferred from unique values of `y`.  Expected: [   0    1    2 ... 1146 1147 1148], got [  22000.   39900.   40000. ... 5650000. 5995000. 8100000.]",
     "output_type": "error",
     "traceback": [
      "\u001b[1;31m---------------------------------------------------------------------------\u001b[0m",
      "\u001b[1;31mValueError\u001b[0m                                Traceback (most recent call last)",
      "Cell \u001b[1;32mIn[1633], line 3\u001b[0m\n\u001b[0;32m      1\u001b[0m \u001b[39mfrom\u001b[39;00m \u001b[39mxgboost\u001b[39;00m \u001b[39mimport\u001b[39;00m XGBClassifier\n\u001b[0;32m      2\u001b[0m model\u001b[39m=\u001b[39m XGBClassifier()\n\u001b[1;32m----> 3\u001b[0m model\u001b[39m.\u001b[39;49mfit(X_train, y_train)\n\u001b[0;32m      4\u001b[0m \u001b[39mprint\u001b[39m(model\u001b[39m.\u001b[39mscore(X_train, y_train))\n\u001b[0;32m      5\u001b[0m \u001b[39mprint\u001b[39m(model\u001b[39m.\u001b[39mscore(X_test, y_test))\n",
      "File \u001b[1;32mc:\\Users\\spike\\Documents\\study\\becode_projects\\Real_Estate_Analysis\\immovenv\\Lib\\site-packages\\xgboost\\core.py:620\u001b[0m, in \u001b[0;36mrequire_keyword_args.<locals>.throw_if.<locals>.inner_f\u001b[1;34m(*args, **kwargs)\u001b[0m\n\u001b[0;32m    618\u001b[0m \u001b[39mfor\u001b[39;00m k, arg \u001b[39min\u001b[39;00m \u001b[39mzip\u001b[39m(sig\u001b[39m.\u001b[39mparameters, args):\n\u001b[0;32m    619\u001b[0m     kwargs[k] \u001b[39m=\u001b[39m arg\n\u001b[1;32m--> 620\u001b[0m \u001b[39mreturn\u001b[39;00m func(\u001b[39m*\u001b[39;49m\u001b[39m*\u001b[39;49mkwargs)\n",
      "File \u001b[1;32mc:\\Users\\spike\\Documents\\study\\becode_projects\\Real_Estate_Analysis\\immovenv\\Lib\\site-packages\\xgboost\\sklearn.py:1440\u001b[0m, in \u001b[0;36mXGBClassifier.fit\u001b[1;34m(self, X, y, sample_weight, base_margin, eval_set, eval_metric, early_stopping_rounds, verbose, xgb_model, sample_weight_eval_set, base_margin_eval_set, feature_weights, callbacks)\u001b[0m\n\u001b[0;32m   1435\u001b[0m     expected_classes \u001b[39m=\u001b[39m np\u001b[39m.\u001b[39marange(\u001b[39mself\u001b[39m\u001b[39m.\u001b[39mn_classes_)\n\u001b[0;32m   1436\u001b[0m \u001b[39mif\u001b[39;00m (\n\u001b[0;32m   1437\u001b[0m     \u001b[39mself\u001b[39m\u001b[39m.\u001b[39mclasses_\u001b[39m.\u001b[39mshape \u001b[39m!=\u001b[39m expected_classes\u001b[39m.\u001b[39mshape\n\u001b[0;32m   1438\u001b[0m     \u001b[39mor\u001b[39;00m \u001b[39mnot\u001b[39;00m (\u001b[39mself\u001b[39m\u001b[39m.\u001b[39mclasses_ \u001b[39m==\u001b[39m expected_classes)\u001b[39m.\u001b[39mall()\n\u001b[0;32m   1439\u001b[0m ):\n\u001b[1;32m-> 1440\u001b[0m     \u001b[39mraise\u001b[39;00m \u001b[39mValueError\u001b[39;00m(\n\u001b[0;32m   1441\u001b[0m         \u001b[39mf\u001b[39m\u001b[39m\"\u001b[39m\u001b[39mInvalid classes inferred from unique values of `y`.  \u001b[39m\u001b[39m\"\u001b[39m\n\u001b[0;32m   1442\u001b[0m         \u001b[39mf\u001b[39m\u001b[39m\"\u001b[39m\u001b[39mExpected: \u001b[39m\u001b[39m{\u001b[39;00mexpected_classes\u001b[39m}\u001b[39;00m\u001b[39m, got \u001b[39m\u001b[39m{\u001b[39;00m\u001b[39mself\u001b[39m\u001b[39m.\u001b[39mclasses_\u001b[39m}\u001b[39;00m\u001b[39m\"\u001b[39m\n\u001b[0;32m   1443\u001b[0m     )\n\u001b[0;32m   1445\u001b[0m params \u001b[39m=\u001b[39m \u001b[39mself\u001b[39m\u001b[39m.\u001b[39mget_xgb_params()\n\u001b[0;32m   1447\u001b[0m \u001b[39mif\u001b[39;00m \u001b[39mcallable\u001b[39m(\u001b[39mself\u001b[39m\u001b[39m.\u001b[39mobjective):\n",
      "\u001b[1;31mValueError\u001b[0m: Invalid classes inferred from unique values of `y`.  Expected: [   0    1    2 ... 1146 1147 1148], got [  22000.   39900.   40000. ... 5650000. 5995000. 8100000.]"
     ]
    }
   ],
   "source": [
    "from xgboost import XGBClassifier\n",
    "model= XGBClassifier()\n",
    "model.fit(X_train, y_train)\n",
    "print(model.score(X_train, y_train))\n",
    "print(model.score(X_test, y_test))"
   ]
  }
 ],
 "metadata": {
  "kernelspec": {
   "display_name": "immovenv",
   "language": "python",
   "name": "python3"
  },
  "language_info": {
   "codemirror_mode": {
    "name": "ipython",
    "version": 3
   },
   "file_extension": ".py",
   "mimetype": "text/x-python",
   "name": "python",
   "nbconvert_exporter": "python",
   "pygments_lexer": "ipython3",
   "version": "3.11.3"
  },
  "orig_nbformat": 4
 },
 "nbformat": 4,
 "nbformat_minor": 2
}
